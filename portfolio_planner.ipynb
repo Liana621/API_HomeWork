{
 "cells": [
  {
   "cell_type": "code",
   "execution_count": 19,
   "metadata": {},
   "outputs": [],
   "source": [
    "import numpy as np\n",
    "import pandas as pd\n",
    "from datetime import datetime, timedelta\n",
    "import matplotlib.pyplot as plt\n",
    "%matplotlib inline"
   ]
  },
  {
   "cell_type": "code",
   "execution_count": 20,
   "metadata": {},
   "outputs": [],
   "source": [
    "np.random.seed(42)"
   ]
  },
  {
   "cell_type": "markdown",
   "metadata": {},
   "source": [
    "# Portfolio Planner\n",
    "\n",
    "In this activity, you will use the iedfinance api to grab historical data for a 60/40 portfolio using `SPY` to represent the stock portion and `AGG` to represent the bonds."
   ]
  },
  {
   "cell_type": "code",
   "execution_count": 21,
   "metadata": {},
   "outputs": [],
   "source": [
    "from iexfinance.stocks import get_historical_data\n",
    "from iexfinance.refdata import get_symbols\n",
    "import iexfinance as iex"
   ]
  },
  {
   "cell_type": "markdown",
   "metadata": {},
   "source": [
    "# Data Collection\n",
    "\n",
    "In this step, you will need to use the IEX api to fetch closing prices for the `SPY` and `AGG` tickers. Save the results as a pandas DataFrame"
   ]
  },
  {
   "cell_type": "code",
   "execution_count": 22,
   "metadata": {},
   "outputs": [
    {
     "data": {
      "text/html": [
       "<div>\n",
       "<style scoped>\n",
       "    .dataframe tbody tr th:only-of-type {\n",
       "        vertical-align: middle;\n",
       "    }\n",
       "\n",
       "    .dataframe tbody tr th {\n",
       "        vertical-align: top;\n",
       "    }\n",
       "\n",
       "    .dataframe thead tr th {\n",
       "        text-align: left;\n",
       "    }\n",
       "\n",
       "    .dataframe thead tr:last-of-type th {\n",
       "        text-align: right;\n",
       "    }\n",
       "</style>\n",
       "<table border=\"1\" class=\"dataframe\">\n",
       "  <thead>\n",
       "    <tr>\n",
       "      <th></th>\n",
       "      <th colspan=\"5\" halign=\"left\">SPY</th>\n",
       "      <th colspan=\"5\" halign=\"left\">AGG</th>\n",
       "    </tr>\n",
       "    <tr>\n",
       "      <th></th>\n",
       "      <th>open</th>\n",
       "      <th>high</th>\n",
       "      <th>low</th>\n",
       "      <th>close</th>\n",
       "      <th>volume</th>\n",
       "      <th>open</th>\n",
       "      <th>high</th>\n",
       "      <th>low</th>\n",
       "      <th>close</th>\n",
       "      <th>volume</th>\n",
       "    </tr>\n",
       "    <tr>\n",
       "      <th>date</th>\n",
       "      <th></th>\n",
       "      <th></th>\n",
       "      <th></th>\n",
       "      <th></th>\n",
       "      <th></th>\n",
       "      <th></th>\n",
       "      <th></th>\n",
       "      <th></th>\n",
       "      <th></th>\n",
       "      <th></th>\n",
       "    </tr>\n",
       "  </thead>\n",
       "  <tbody>\n",
       "    <tr>\n",
       "      <th>2018-10-08</th>\n",
       "      <td>287.05</td>\n",
       "      <td>288.22</td>\n",
       "      <td>285.50</td>\n",
       "      <td>287.82</td>\n",
       "      <td>87742172</td>\n",
       "      <td>104.38</td>\n",
       "      <td>104.40</td>\n",
       "      <td>104.29</td>\n",
       "      <td>104.29</td>\n",
       "      <td>2267961</td>\n",
       "    </tr>\n",
       "    <tr>\n",
       "      <th>2018-10-09</th>\n",
       "      <td>287.39</td>\n",
       "      <td>288.86</td>\n",
       "      <td>286.77</td>\n",
       "      <td>287.40</td>\n",
       "      <td>74338982</td>\n",
       "      <td>104.39</td>\n",
       "      <td>104.51</td>\n",
       "      <td>104.32</td>\n",
       "      <td>104.44</td>\n",
       "      <td>21903180</td>\n",
       "    </tr>\n",
       "    <tr>\n",
       "      <th>2018-10-10</th>\n",
       "      <td>286.83</td>\n",
       "      <td>286.91</td>\n",
       "      <td>277.88</td>\n",
       "      <td>278.30</td>\n",
       "      <td>214731042</td>\n",
       "      <td>104.34</td>\n",
       "      <td>104.46</td>\n",
       "      <td>104.23</td>\n",
       "      <td>104.41</td>\n",
       "      <td>3834833</td>\n",
       "    </tr>\n",
       "    <tr>\n",
       "      <th>2018-10-11</th>\n",
       "      <td>277.08</td>\n",
       "      <td>278.90</td>\n",
       "      <td>270.36</td>\n",
       "      <td>272.17</td>\n",
       "      <td>274840491</td>\n",
       "      <td>104.59</td>\n",
       "      <td>104.86</td>\n",
       "      <td>104.51</td>\n",
       "      <td>104.72</td>\n",
       "      <td>7053895</td>\n",
       "    </tr>\n",
       "    <tr>\n",
       "      <th>2018-10-12</th>\n",
       "      <td>276.77</td>\n",
       "      <td>277.09</td>\n",
       "      <td>272.37</td>\n",
       "      <td>275.95</td>\n",
       "      <td>183186492</td>\n",
       "      <td>104.71</td>\n",
       "      <td>104.87</td>\n",
       "      <td>104.68</td>\n",
       "      <td>104.75</td>\n",
       "      <td>5017438</td>\n",
       "    </tr>\n",
       "  </tbody>\n",
       "</table>\n",
       "</div>"
      ],
      "text/plain": [
       "               SPY                                        AGG                  \\\n",
       "              open    high     low   close     volume    open    high     low   \n",
       "date                                                                            \n",
       "2018-10-08  287.05  288.22  285.50  287.82   87742172  104.38  104.40  104.29   \n",
       "2018-10-09  287.39  288.86  286.77  287.40   74338982  104.39  104.51  104.32   \n",
       "2018-10-10  286.83  286.91  277.88  278.30  214731042  104.34  104.46  104.23   \n",
       "2018-10-11  277.08  278.90  270.36  272.17  274840491  104.59  104.86  104.51   \n",
       "2018-10-12  276.77  277.09  272.37  275.95  183186492  104.71  104.87  104.68   \n",
       "\n",
       "                              \n",
       "             close    volume  \n",
       "date                          \n",
       "2018-10-08  104.29   2267961  \n",
       "2018-10-09  104.44  21903180  \n",
       "2018-10-10  104.41   3834833  \n",
       "2018-10-11  104.72   7053895  \n",
       "2018-10-12  104.75   5017438  "
      ]
     },
     "execution_count": 22,
     "metadata": {},
     "output_type": "execute_result"
    }
   ],
   "source": [
    "list_of_tickers = [\"SPY\", \"AGG\"]\n",
    "# YOUR CODE HERE\n",
    "# Set start and end datetimes of 1 year, between now and 365 days ago.\n",
    "end_date = datetime.now()\n",
    "start_date = end_date + timedelta(-365)\n",
    "\n",
    "# Get 1 year's worth of historical data for AAPL\n",
    "df = get_historical_data(list_of_tickers, start_date, end_date,  output_format='pandas')\n",
    "df.head()\n"
   ]
  },
  {
   "cell_type": "code",
   "execution_count": null,
   "metadata": {},
   "outputs": [],
   "source": []
  },
  {
   "cell_type": "markdown",
   "metadata": {},
   "source": [
    "# Use the `drop` function with the `level` parameter to drop extra columns in the multi-index DataFrame\n",
    "df.drop(columns=['open', 'high', 'low', 'volume'], level=1, inplace=True)\n",
    "df.head()"
   ]
  },
  {
   "cell_type": "code",
   "execution_count": 23,
   "metadata": {},
   "outputs": [
    {
     "data": {
      "text/html": [
       "<div>\n",
       "<style scoped>\n",
       "    .dataframe tbody tr th:only-of-type {\n",
       "        vertical-align: middle;\n",
       "    }\n",
       "\n",
       "    .dataframe tbody tr th {\n",
       "        vertical-align: top;\n",
       "    }\n",
       "\n",
       "    .dataframe thead tr th {\n",
       "        text-align: left;\n",
       "    }\n",
       "\n",
       "    .dataframe thead tr:last-of-type th {\n",
       "        text-align: right;\n",
       "    }\n",
       "</style>\n",
       "<table border=\"1\" class=\"dataframe\">\n",
       "  <thead>\n",
       "    <tr>\n",
       "      <th></th>\n",
       "      <th>SPY</th>\n",
       "      <th>AGG</th>\n",
       "    </tr>\n",
       "    <tr>\n",
       "      <th></th>\n",
       "      <th>close</th>\n",
       "      <th>close</th>\n",
       "    </tr>\n",
       "    <tr>\n",
       "      <th>date</th>\n",
       "      <th></th>\n",
       "      <th></th>\n",
       "    </tr>\n",
       "  </thead>\n",
       "  <tbody>\n",
       "    <tr>\n",
       "      <th>2018-10-08</th>\n",
       "      <td>287.82</td>\n",
       "      <td>104.29</td>\n",
       "    </tr>\n",
       "    <tr>\n",
       "      <th>2018-10-09</th>\n",
       "      <td>287.40</td>\n",
       "      <td>104.44</td>\n",
       "    </tr>\n",
       "    <tr>\n",
       "      <th>2018-10-10</th>\n",
       "      <td>278.30</td>\n",
       "      <td>104.41</td>\n",
       "    </tr>\n",
       "    <tr>\n",
       "      <th>2018-10-11</th>\n",
       "      <td>272.17</td>\n",
       "      <td>104.72</td>\n",
       "    </tr>\n",
       "    <tr>\n",
       "      <th>2018-10-12</th>\n",
       "      <td>275.95</td>\n",
       "      <td>104.75</td>\n",
       "    </tr>\n",
       "  </tbody>\n",
       "</table>\n",
       "</div>"
      ],
      "text/plain": [
       "               SPY     AGG\n",
       "             close   close\n",
       "date                      \n",
       "2018-10-08  287.82  104.29\n",
       "2018-10-09  287.40  104.44\n",
       "2018-10-10  278.30  104.41\n",
       "2018-10-11  272.17  104.72\n",
       "2018-10-12  275.95  104.75"
      ]
     },
     "execution_count": 23,
     "metadata": {},
     "output_type": "execute_result"
    }
   ],
   "source": [
    "# Calculate the daily roi for the stocks\n",
    "# YOUR CODE HERE\n",
    "# Use the `drop` function with the `level` parameter to drop extra columns in the multi-index DataFrame\n",
    "df.drop(columns=['open', 'high', 'low', 'volume'], level=1, inplace=True)\n",
    "df.head()"
   ]
  },
  {
   "cell_type": "code",
   "execution_count": 8,
   "metadata": {},
   "outputs": [
    {
     "data": {
      "text/html": [
       "<div>\n",
       "<style scoped>\n",
       "    .dataframe tbody tr th:only-of-type {\n",
       "        vertical-align: middle;\n",
       "    }\n",
       "\n",
       "    .dataframe tbody tr th {\n",
       "        vertical-align: top;\n",
       "    }\n",
       "\n",
       "    .dataframe thead tr th {\n",
       "        text-align: left;\n",
       "    }\n",
       "\n",
       "    .dataframe thead tr:last-of-type th {\n",
       "        text-align: right;\n",
       "    }\n",
       "</style>\n",
       "<table border=\"1\" class=\"dataframe\">\n",
       "  <thead>\n",
       "    <tr>\n",
       "      <th></th>\n",
       "      <th>SPY</th>\n",
       "      <th>AGG</th>\n",
       "    </tr>\n",
       "    <tr>\n",
       "      <th></th>\n",
       "      <th>close</th>\n",
       "      <th>close</th>\n",
       "    </tr>\n",
       "    <tr>\n",
       "      <th>date</th>\n",
       "      <th></th>\n",
       "      <th></th>\n",
       "    </tr>\n",
       "  </thead>\n",
       "  <tbody>\n",
       "    <tr>\n",
       "      <th>2018-10-08</th>\n",
       "      <td>NaN</td>\n",
       "      <td>NaN</td>\n",
       "    </tr>\n",
       "    <tr>\n",
       "      <th>2018-10-09</th>\n",
       "      <td>-0.001459</td>\n",
       "      <td>0.001438</td>\n",
       "    </tr>\n",
       "    <tr>\n",
       "      <th>2018-10-10</th>\n",
       "      <td>-0.031663</td>\n",
       "      <td>-0.000287</td>\n",
       "    </tr>\n",
       "    <tr>\n",
       "      <th>2018-10-11</th>\n",
       "      <td>-0.022027</td>\n",
       "      <td>0.002969</td>\n",
       "    </tr>\n",
       "    <tr>\n",
       "      <th>2018-10-12</th>\n",
       "      <td>0.013888</td>\n",
       "      <td>0.000286</td>\n",
       "    </tr>\n",
       "  </tbody>\n",
       "</table>\n",
       "</div>"
      ],
      "text/plain": [
       "                 SPY       AGG\n",
       "               close     close\n",
       "date                          \n",
       "2018-10-08       NaN       NaN\n",
       "2018-10-09 -0.001459  0.001438\n",
       "2018-10-10 -0.031663 -0.000287\n",
       "2018-10-11 -0.022027  0.002969\n",
       "2018-10-12  0.013888  0.000286"
      ]
     },
     "execution_count": 8,
     "metadata": {},
     "output_type": "execute_result"
    }
   ],
   "source": [
    "# Use the `pct_change` function to calculate daily returns of `SYP` and `AGG`.\n",
    "daily_returns = df.pct_change()\n",
    "daily_returns.head()"
   ]
  },
  {
   "cell_type": "code",
   "execution_count": 42,
   "metadata": {},
   "outputs": [
    {
     "data": {
      "text/plain": [
       "0.0003531011220951945"
      ]
     },
     "execution_count": 42,
     "metadata": {},
     "output_type": "execute_result"
    }
   ],
   "source": [
    "# Use the `mean` function to calculate the mean of daily returns for `SPY` and `AGG`, respectively\n",
    "#C = daily_returns.mean()['SPY']['close']\n",
    "avg_daily_return_spy = daily_returns.mean()['SPY']['close']\n",
    "avg_daily_return_agg = daily_returns.mean()['AGG']['close']\n",
    "avg_daily_return_agg\n",
    "\n"
   ]
  },
  {
   "cell_type": "code",
   "execution_count": 40,
   "metadata": {},
   "outputs": [
    {
     "data": {
      "text/plain": [
       "0.0001477786683584634"
      ]
     },
     "execution_count": 40,
     "metadata": {},
     "output_type": "execute_result"
    }
   ],
   "source": [
    "#AVG daily return 'SPY'\n",
    "avg_daily_return_spy\n"
   ]
  },
  {
   "cell_type": "code",
   "execution_count": 41,
   "metadata": {},
   "outputs": [
    {
     "data": {
      "text/plain": [
       "0.0003531011220951945"
      ]
     },
     "execution_count": 41,
     "metadata": {},
     "output_type": "execute_result"
    }
   ],
   "source": [
    "#AVG daily return  'AGG'\n",
    "avg_daily_return_agg"
   ]
  },
  {
   "cell_type": "code",
   "execution_count": 44,
   "metadata": {},
   "outputs": [
    {
     "data": {
      "text/plain": [
       "0.0019343075554694774"
      ]
     },
     "execution_count": 44,
     "metadata": {},
     "output_type": "execute_result"
    }
   ],
   "source": [
    "# Calculate volatility AKA standard deviation \n",
    "std_dev_daily_return_spy = daily_returns.std()['SPY']['close']\n",
    "std_dev_daily_return_agg = daily_returns.std()['AGG']['close']\n",
    "std_dev_daily_return_agg\n"
   ]
  },
  {
   "cell_type": "code",
   "execution_count": null,
   "metadata": {},
   "outputs": [],
   "source": []
  },
  {
   "cell_type": "code",
   "execution_count": 65,
   "metadata": {},
   "outputs": [],
   "source": [
    "# Save the last day's closing price\n",
    "spy_last_price = df['SPY']['close'][-1]\n",
    "agg_last_price = df['AGG']['close'][-1]\n",
    "\n"
   ]
  },
  {
   "cell_type": "code",
   "execution_count": 143,
   "metadata": {},
   "outputs": [],
   "source": [
    "# Setup the Monte Carlo Parameters\n",
    "num_simulations = 100\n",
    "number_records = 252 * 30\n",
    "monte_carlo = pd.DataFrame()   #simulated_price_df = pd.DataFrame()\n",
    "portfolio_cumulative_returns = pd.DataFrame()"
   ]
  },
  {
   "cell_type": "code",
   "execution_count": null,
   "metadata": {},
   "outputs": [],
   "source": []
  },
  {
   "cell_type": "code",
   "execution_count": 73,
   "metadata": {},
   "outputs": [
    {
     "data": {
      "text/html": [
       "<div>\n",
       "<style scoped>\n",
       "    .dataframe tbody tr th:only-of-type {\n",
       "        vertical-align: middle;\n",
       "    }\n",
       "\n",
       "    .dataframe tbody tr th {\n",
       "        vertical-align: top;\n",
       "    }\n",
       "\n",
       "    .dataframe thead th {\n",
       "        text-align: right;\n",
       "    }\n",
       "</style>\n",
       "<table border=\"1\" class=\"dataframe\">\n",
       "  <thead>\n",
       "    <tr style=\"text-align: right;\">\n",
       "      <th></th>\n",
       "      <th>0</th>\n",
       "      <th>1</th>\n",
       "      <th>2</th>\n",
       "      <th>3</th>\n",
       "      <th>4</th>\n",
       "      <th>5</th>\n",
       "      <th>6</th>\n",
       "      <th>7</th>\n",
       "      <th>8</th>\n",
       "      <th>9</th>\n",
       "      <th>...</th>\n",
       "      <th>90</th>\n",
       "      <th>91</th>\n",
       "      <th>92</th>\n",
       "      <th>93</th>\n",
       "      <th>94</th>\n",
       "      <th>95</th>\n",
       "      <th>96</th>\n",
       "      <th>97</th>\n",
       "      <th>98</th>\n",
       "      <th>99</th>\n",
       "    </tr>\n",
       "  </thead>\n",
       "  <tbody>\n",
       "    <tr>\n",
       "      <th>0</th>\n",
       "      <td>1.000000</td>\n",
       "      <td>1.000000</td>\n",
       "      <td>1.000000</td>\n",
       "      <td>1.000000</td>\n",
       "      <td>1.000000</td>\n",
       "      <td>1.000000</td>\n",
       "      <td>1.000000</td>\n",
       "      <td>1.000000</td>\n",
       "      <td>1.000000</td>\n",
       "      <td>1.000000</td>\n",
       "      <td>...</td>\n",
       "      <td>1.000000</td>\n",
       "      <td>1.000000</td>\n",
       "      <td>1.000000</td>\n",
       "      <td>1.000000</td>\n",
       "      <td>1.000000</td>\n",
       "      <td>1.000000</td>\n",
       "      <td>1.000000</td>\n",
       "      <td>1.000000</td>\n",
       "      <td>1.000000</td>\n",
       "      <td>1.000000</td>\n",
       "    </tr>\n",
       "    <tr>\n",
       "      <th>1</th>\n",
       "      <td>0.994353</td>\n",
       "      <td>0.990824</td>\n",
       "      <td>0.995736</td>\n",
       "      <td>0.988799</td>\n",
       "      <td>1.004072</td>\n",
       "      <td>0.996378</td>\n",
       "      <td>1.001845</td>\n",
       "      <td>1.010205</td>\n",
       "      <td>1.007866</td>\n",
       "      <td>0.989713</td>\n",
       "      <td>...</td>\n",
       "      <td>1.003051</td>\n",
       "      <td>0.993871</td>\n",
       "      <td>1.004244</td>\n",
       "      <td>1.011783</td>\n",
       "      <td>1.002710</td>\n",
       "      <td>1.003826</td>\n",
       "      <td>1.004527</td>\n",
       "      <td>0.996745</td>\n",
       "      <td>1.007155</td>\n",
       "      <td>0.997854</td>\n",
       "    </tr>\n",
       "    <tr>\n",
       "      <th>2</th>\n",
       "      <td>0.985664</td>\n",
       "      <td>0.992506</td>\n",
       "      <td>1.002211</td>\n",
       "      <td>0.996359</td>\n",
       "      <td>1.001395</td>\n",
       "      <td>0.997160</td>\n",
       "      <td>1.002854</td>\n",
       "      <td>1.015329</td>\n",
       "      <td>1.017677</td>\n",
       "      <td>0.990187</td>\n",
       "      <td>...</td>\n",
       "      <td>1.001673</td>\n",
       "      <td>0.997415</td>\n",
       "      <td>0.999978</td>\n",
       "      <td>1.015212</td>\n",
       "      <td>1.005742</td>\n",
       "      <td>1.014062</td>\n",
       "      <td>1.008507</td>\n",
       "      <td>1.000572</td>\n",
       "      <td>1.007015</td>\n",
       "      <td>0.998392</td>\n",
       "    </tr>\n",
       "    <tr>\n",
       "      <th>3</th>\n",
       "      <td>0.987588</td>\n",
       "      <td>0.999696</td>\n",
       "      <td>1.003025</td>\n",
       "      <td>0.999489</td>\n",
       "      <td>0.999868</td>\n",
       "      <td>0.998780</td>\n",
       "      <td>0.997474</td>\n",
       "      <td>1.010504</td>\n",
       "      <td>1.015670</td>\n",
       "      <td>0.991338</td>\n",
       "      <td>...</td>\n",
       "      <td>0.993811</td>\n",
       "      <td>1.008734</td>\n",
       "      <td>1.003439</td>\n",
       "      <td>1.022758</td>\n",
       "      <td>0.999455</td>\n",
       "      <td>1.009936</td>\n",
       "      <td>1.012115</td>\n",
       "      <td>1.008841</td>\n",
       "      <td>1.000960</td>\n",
       "      <td>0.996333</td>\n",
       "    </tr>\n",
       "    <tr>\n",
       "      <th>4</th>\n",
       "      <td>0.983508</td>\n",
       "      <td>0.995632</td>\n",
       "      <td>1.001797</td>\n",
       "      <td>1.001532</td>\n",
       "      <td>0.991494</td>\n",
       "      <td>0.998703</td>\n",
       "      <td>0.999980</td>\n",
       "      <td>1.002105</td>\n",
       "      <td>1.025673</td>\n",
       "      <td>0.996365</td>\n",
       "      <td>...</td>\n",
       "      <td>1.004328</td>\n",
       "      <td>1.005955</td>\n",
       "      <td>1.003823</td>\n",
       "      <td>1.026121</td>\n",
       "      <td>0.985910</td>\n",
       "      <td>1.004685</td>\n",
       "      <td>1.017417</td>\n",
       "      <td>1.011481</td>\n",
       "      <td>0.991824</td>\n",
       "      <td>1.002845</td>\n",
       "    </tr>\n",
       "  </tbody>\n",
       "</table>\n",
       "<p>5 rows × 100 columns</p>\n",
       "</div>"
      ],
      "text/plain": [
       "         0         1         2         3         4         5         6   \\\n",
       "0  1.000000  1.000000  1.000000  1.000000  1.000000  1.000000  1.000000   \n",
       "1  0.994353  0.990824  0.995736  0.988799  1.004072  0.996378  1.001845   \n",
       "2  0.985664  0.992506  1.002211  0.996359  1.001395  0.997160  1.002854   \n",
       "3  0.987588  0.999696  1.003025  0.999489  0.999868  0.998780  0.997474   \n",
       "4  0.983508  0.995632  1.001797  1.001532  0.991494  0.998703  0.999980   \n",
       "\n",
       "         7         8         9   ...        90        91        92        93  \\\n",
       "0  1.000000  1.000000  1.000000  ...  1.000000  1.000000  1.000000  1.000000   \n",
       "1  1.010205  1.007866  0.989713  ...  1.003051  0.993871  1.004244  1.011783   \n",
       "2  1.015329  1.017677  0.990187  ...  1.001673  0.997415  0.999978  1.015212   \n",
       "3  1.010504  1.015670  0.991338  ...  0.993811  1.008734  1.003439  1.022758   \n",
       "4  1.002105  1.025673  0.996365  ...  1.004328  1.005955  1.003823  1.026121   \n",
       "\n",
       "         94        95        96        97        98        99  \n",
       "0  1.000000  1.000000  1.000000  1.000000  1.000000  1.000000  \n",
       "1  1.002710  1.003826  1.004527  0.996745  1.007155  0.997854  \n",
       "2  1.005742  1.014062  1.008507  1.000572  1.007015  0.998392  \n",
       "3  0.999455  1.009936  1.012115  1.008841  1.000960  0.996333  \n",
       "4  0.985910  1.004685  1.017417  1.011481  0.991824  1.002845  \n",
       "\n",
       "[5 rows x 100 columns]"
      ]
     },
     "execution_count": 73,
     "metadata": {},
     "output_type": "execute_result"
    }
   ],
   "source": [
    "# Run the Monte Carlo Simulation\n",
    "# Initialize empty DataFrame to hold simulated prices for each simulation\n",
    "\n",
    "for n in range(num_simulations):\n",
    "\n",
    "    # Initialize the simulated prices list with the last closing price of `JNJ` and `MU`\n",
    "    simulated_spy_prices = [spy_last_price]\n",
    "    simulated_agg_prices = [agg_last_price]\n",
    "    \n",
    "    # Simulate the returns for 252 days\n",
    "    for i in range(number_records):\n",
    "        \n",
    "        # Calculate the simulated price using the last price within the list\n",
    "        simulated_spy_price = simulated_spy_prices[-1] * (1 + np.random.normal(avg_daily_return_spy, std_dev_daily_return_spy))\n",
    "        simulated_agg_price = simulated_agg_prices[-1] * (1 + np.random.normal(avg_daily_return_agg, std_dev_daily_return_agg))\n",
    "        \n",
    "        # Append the simulated price to the list\n",
    "        simulated_spy_prices.append(simulated_spy_price)\n",
    "        simulated_agg_prices.append(simulated_agg_price)\n",
    "    \n",
    "    # Append a simulated prices of each simulation to DataFrame\n",
    "    simulated_price_df[\"SPY prices\"] = pd.Series(simulated_spy_prices)\n",
    "    simulated_price_df[\"AGG prices\"] = pd.Series(simulated_agg_prices)\n",
    "    \n",
    "    # Calculate the daily returns of simulated prices\n",
    "    simulated_daily_returns = simulated_price_df.pct_change()\n",
    "    \n",
    "    # Set the portfolio weights (60% JNJ; 40% MU)\n",
    "    weights = [0.60, 0.40]\n",
    "\n",
    "    # Use the `dot` function with the weights to multiply weights with each column's simulated daily returns\n",
    "    portfolio_daily_returns = simulated_daily_returns.dot(weights)\n",
    "    \n",
    "    # Calculate the normalized, cumulative return series\n",
    "    portfolio_cumulative_returns[n] = (1 + portfolio_daily_returns.fillna(0)).cumprod()\n",
    "\n",
    "# Print records from the DataFrame\n",
    "portfolio_cumulative_returns.head()\n",
    "\n",
    "\n",
    "\n"
   ]
  },
  {
   "cell_type": "code",
   "execution_count": 74,
   "metadata": {},
   "outputs": [
    {
     "data": {
      "text/plain": [
       "<matplotlib.axes._subplots.AxesSubplot at 0x278820ab0f0>"
      ]
     },
     "execution_count": 74,
     "metadata": {},
     "output_type": "execute_result"
    },
    {
     "data": {
      "image/png": "[encoded data removed]",
      "text/plain": [
       "<Figure size 432x288 with 1 Axes>"
      ]
     },
     "metadata": {
      "needs_background": "light"
     },
     "output_type": "display_data"
    }
   ],
   "source": [
    "# Visualize the Simulation\n",
    "plot_title = f\"{n+1} Simulations of Cumulative Portfolio Return Trajectories Over the Next 30 Years\"\n",
    "portfolio_cumulative_returns.plot(legend=None, title=plot_title)\n",
    "\n",
    "\n"
   ]
  },
  {
   "cell_type": "code",
   "execution_count": 103,
   "metadata": {},
   "outputs": [
    {
     "data": {
      "text/plain": [
       "0    5.527192\n",
       "1    3.064273\n",
       "2    3.729530\n",
       "3    2.284095\n",
       "4    1.310822\n",
       "Name: 7560, dtype: float64"
      ]
     },
     "execution_count": 103,
     "metadata": {},
     "output_type": "execute_result"
    }
   ],
   "source": [
    "# Select the last row for the cumulative returns (cumulative returns at 30 years)\n",
    "# YOUR CODE HERE\n",
    "ending_cumulative_return_30 = portfolio_cumulative_returns.iloc[252*30, :]\n",
    "ending_cumulative_return_30.head()\n"
   ]
  },
  {
   "cell_type": "code",
   "execution_count": 109,
   "metadata": {},
   "outputs": [
    {
     "data": {
      "text/plain": [
       "0    4.360642\n",
       "1    2.087534\n",
       "2    2.210104\n",
       "3    2.547230\n",
       "4    1.279255\n",
       "Name: 5040, dtype: float64"
      ]
     },
     "execution_count": 109,
     "metadata": {},
     "output_type": "execute_result"
    }
   ],
   "source": [
    "# Select the last row for the cumulative returns (cumulative returns at 20 years)\n",
    "ending_cumulative_return_20 = portfolio_cumulative_returns.iloc[252*20, :]\n",
    "ending_cumulative_return_20.head()"
   ]
  },
  {
   "cell_type": "code",
   "execution_count": 110,
   "metadata": {},
   "outputs": [
    {
     "data": {
      "text/plain": [
       "0.05     1.894094\n",
       "0.95    13.988561\n",
       "Name: 7560, dtype: float64"
      ]
     },
     "execution_count": 110,
     "metadata": {},
     "output_type": "execute_result"
    }
   ],
   "source": [
    "# Display the 90% confidence interval for the ending returns @ 30 yrs\n",
    "confidence_interval = ending_cumulative_return_30.quantile(q=[0.05, 0.95])\n",
    "confidence_interval\n"
   ]
  },
  {
   "cell_type": "code",
   "execution_count": 124,
   "metadata": {},
   "outputs": [
    {
     "data": {
      "text/plain": [
       "<matplotlib.lines.Line2D at 0x27882a5f7b8>"
      ]
     },
     "execution_count": 124,
     "metadata": {},
     "output_type": "execute_result"
    },
    {
     "data": {
      "image/png": "[encoded data removed]",
      "text/plain": [
       "<Figure size 432x288 with 1 Axes>"
      ]
     },
     "metadata": {
      "needs_background": "light"
     },
     "output_type": "display_data"
    }
   ],
   "source": [
    "# Visualize the distribution of the ending returns\n",
    "# Use the `plot` function to create a probability distribution histogram of simulated ending prices\n",
    "# with markings for a 90% confidence interval\n",
    "plt.figure();\n",
    "ending_cumulative_return_30.plot(kind='hist', density=True, bins=[0, 1, 2, 3, 4, 5, 6, 7, 8, 9, 10])\n",
    "plt.axvline(confidence_interval.iloc[0], color='r')\n",
    "plt.axvline(confidence_interval.iloc[1], color='r')\n",
    "\n",
    "S"
   ]
  },
  {
   "cell_type": "markdown",
   "metadata": {},
   "source": [
    "---"
   ]
  },
  {
   "cell_type": "markdown",
   "metadata": {},
   "source": [
    "# Retirement Analysis\n",
    "\n",
    "In this section, you will use the monte carlo model to answer the following retirement planning questions:\n",
    "\n",
    "1. What are the expected cumulative returns at 30 years for the 10th, 50th, and 90th percentiles?\n",
    "2. Given an initial investment of `$20,000`, what is the expected portfolio return in dollars at the 10th, 50th, and 90th percentiles?\n",
    "3. Given the current projected annual income from the Plaid analysis, will a 4% withdraw rate from the retirement portfolio meet or exceed that value at the 10th percentile?\n",
    "4. How would a 50% increase in the initial investment amount affect the 4% retirement withdrawal?"
   ]
  },
  {
   "cell_type": "markdown",
   "metadata": {},
   "source": [
    "### What are the expected cumulative returns at 30 years for the 10th, 50th, and 90th percentiles?"
   ]
  },
  {
   "cell_type": "code",
   "execution_count": 141,
   "metadata": {},
   "outputs": [
    {
     "name": "stdout",
     "output_type": "stream",
     "text": [
      "Expected cumulative portfolio return at 30 years for the 10th percentile is 2.28\n",
      "Expected cumulative portfolio return at 30 years for the 50th percentile is 4.61\n",
      "Expected cumulative portfolio return at 30 years for the 90th percentile is 9.23\n"
     ]
    }
   ],
   "source": [
    "# YOUR CODE HERE\n",
    "print(f\"Expected cumulative portfolio return at 30 years for the 10th percentile is {round(np.percentile(ending_cumulative_return_30,10),2)}\")\n",
    "print(f\"Expected cumulative portfolio return at 30 years for the 50th percentile is {round(np.percentile(ending_cumulative_return_30,50),2)}\")\n",
    "print(f\"Expected cumulative portfolio return at 30 years for the 90th percentile is {round(np.percentile(ending_cumulative_return_30,90),2)}\")"
   ]
  },
  {
   "cell_type": "code",
   "execution_count": null,
   "metadata": {},
   "outputs": [],
   "source": []
  },
  {
   "cell_type": "code",
   "execution_count": null,
   "metadata": {},
   "outputs": [],
   "source": []
  },
  {
   "cell_type": "markdown",
   "metadata": {},
   "source": [
    "### Given an initial investment of `$20,000`, what is the expected portfolio return in dollars at the 10th, 50th, and 90th percentiles?"
   ]
  },
  {
   "cell_type": "code",
   "execution_count": 142,
   "metadata": {},
   "outputs": [
    {
     "name": "stdout",
     "output_type": "stream",
     "text": [
      "Expected portfolio return in dollars at the 10th percentile is $45679.58326123429\n",
      "Expected portfolio return in dollars at the 50th percentile is $92292.31496990705\n",
      "Expected portfolio return in dollars at the 90th percentile is $184537.61189520487\n"
     ]
    }
   ],
   "source": [
    "# YOUR CODE HERE\n",
    "initial_investment = 20000\n",
    "end_exp_trn = 20000 * ending_cumulative_return_30\n",
    "\n",
    "print(f\"Expected portfolio return in dollars at the 10th percentile is ${(np.percentile(end_exp_trn,10))}\")\n",
    "print(f\"Expected portfolio return in dollars at the 50th percentile is ${(np.percentile(end_exp_trn,50))}\")\n",
    "print(f\"Expected portfolio return in dollars at the 90th percentile is ${(np.percentile(end_exp_trn,90))}\")\n",
    "\n",
    "\n",
    "                                                    \n",
    "\n",
    "\n",
    "\n",
    "\n"
   ]
  },
  {
   "cell_type": "markdown",
   "metadata": {},
   "source": [
    "### Given the current projected annual income from the Plaid analysis, will a 4% withdraw rate from the retirement portfolio meet or exceed that value at the 10th percentile?\n",
    "\n",
    "Note: This is effectively saying that 90% of the expected returns will be greater than the return at the 10th percentile, so this can help measure the uncertainty about having enough funds at retirement"
   ]
  },
  {
   "cell_type": "code",
   "execution_count": null,
   "metadata": {},
   "outputs": [],
   "source": [
    "# YOUR CODE HERE\n"
   ]
  },
  {
   "cell_type": "markdown",
   "metadata": {},
   "source": [
    "### How would a 50% increase in the initial investment amount affect the 4% retirement withdrawal?"
   ]
  },
  {
   "cell_type": "code",
   "execution_count": null,
   "metadata": {},
   "outputs": [],
   "source": [
    "# YOUR CODE HERE"
   ]
  },
  {
   "cell_type": "markdown",
   "metadata": {},
   "source": [
    "### Optional Challenge\n",
    "\n",
    "In this section, you will calculate and plot the cumulative returns for the median and 90% confidence intervals. This plot shows the expected cumulative returns for any given day between the first day and the last day of investment. "
   ]
  },
  {
   "cell_type": "code",
   "execution_count": null,
   "metadata": {},
   "outputs": [],
   "source": [
    "# YOUR CODE HERE"
   ]
  }
 ],
 "metadata": {
  "kernel_info": {
   "name": "dev"
  },
  "kernelspec": {
   "display_name": "Python 3",
   "language": "python",
   "name": "python3"
  },
  "language_info": {
   "codemirror_mode": {
    "name": "ipython",
    "version": 3
   },
   "file_extension": ".py",
   "mimetype": "text/x-python",
   "name": "python",
   "nbconvert_exporter": "python",
   "pygments_lexer": "ipython3",
   "version": "3.7.3"
  },
  "nteract": {
   "version": "0.12.3"
  }
 },
 "nbformat": 4,
 "nbformat_minor": 4
}
